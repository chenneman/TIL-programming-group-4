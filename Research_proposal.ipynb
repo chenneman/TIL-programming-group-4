{
 "cells": [
  {
   "cell_type": "markdown",
   "id": "cd2e1957",
   "metadata": {},
   "source": [
    "# The effect of the helmet law on scooter usage in Dutch cities\n",
    "TIL Python Programming project proposal - Group 4 \\\n",
    "01-10-2025"
   ]
  },
  {
   "cell_type": "markdown",
   "id": "5365be6e",
   "metadata": {},
   "source": [
    "Scooters are a popular mode of urban transport. To enhance safety, the Dutch government introduced a helmet law for the use of 25 km/h scooters. While this law could reduce casualties, it can also influence user behaviour, including a reduction of scooter usage. This research proposal aims to investigate the impact of the helmet law on the usage of 25 km/h scooters (blue licence plate) and 45 km/h scooters (yellow license plate). Understanding these effects is important for policy makers, urban planners and mobility providers to find the right balance between safety, accessibility and user convenience. "
   ]
  },
  {
   "cell_type": "markdown",
   "id": "819ae319",
   "metadata": {},
   "source": [
    "## Research objectives: \n",
    "To investigate the impact on the mandatory helmet law on the ownership patterns of 25 km/h (blue licence plate) scooters and 45 km/h (yellow licence plate) scooters in the Netherlands. "
   ]
  },
  {
   "cell_type": "markdown",
   "id": "4dd7b6ec",
   "metadata": {},
   "source": [
    "## Research questions:\n",
    "How did the introduction of the mandatory helmet law affect the ownership levels of 25 km/h (blue licence plate) scooters compared to 45 km/h (yellow licence plate) scooters?\n",
    "\n",
    "### Sub Questions:\n",
    "What is the influence of age on the effect of the mandatory helmet law? \\\n",
    "How does the effect of  the mandatory helmet law differ in various cities?\n"
   ]
  },
  {
   "cell_type": "markdown",
   "id": "14b8aa65",
   "metadata": {},
   "source": [
    "## Intended data analysis pipeline:\n",
    "**Data Collection:**\n",
    "Data from various sources (datasets) online\n",
    "\n",
    "**Ingesting data:**\n",
    "Storing data in Google Drive and Github\n",
    "\n",
    "**Computing data:**\n",
    "Processing data with the use of Python\n",
    "\n",
    "**Consuming data:**\n",
    "Making conclusions based on graphs and figures derived in the computing data phase\n"
   ]
  },
  {
   "cell_type": "markdown",
   "id": "5e63ee31",
   "metadata": {},
   "source": [
    "## List of datasets:\n",
    "Centraal Bureau voor de Statistiek. (2025). Hoeveel bromfietsen en snorfietsen zijn er in Nederland? Available at: https://www.cbs.nl/nl-nl/visualisaties/verkeer-en-vervoer/vervoermiddelen-en-infrastructuur/bromfietsen-snorfietsen.\n"
   ]
  },
  {
   "cell_type": "markdown",
   "id": "9c0a4ea5",
   "metadata": {},
   "source": [
    "## Geographical scale:\n",
    "Municipality in the Netherlands \\\n",
    "- Rotterdam:\t\t    672 960 citizens 2025 (Centraal Bureau voor Statistiek, 2025) \\\n",
    "- ‘s-Gravenhage:\t\t568 945 citizens 2025 (Centraal Bureau voor Statistiek, 2025) \\\n",
    "- Nijmegen:\t\t\t189 007 citizens 2025 (Centraal Bureau voor Statistiek, 2025) \\\n",
    "- Leeuwarden: \t\t129 973 citizens 2025 (Centraal Bureau voor Statistiek, 2025) \\\n",
    "- Gooise Meren:\t\t61 003  citizens 2025 (Centraal Bureau voor Statistiek, 2025) \\\n"
   ]
  },
  {
   "cell_type": "markdown",
   "id": "cfd9cbf7",
   "metadata": {},
   "source": [
    "\n",
    "## Temporal scale:\n",
    "1 January 2018 until 1 January 2025 to cover all the events that happened during the implementation period. \n",
    "- First time that is was an subject in the house of representatives (17 jan 2019) (von Martels, 2019) \n",
    "- Helmet requirement announcement (30 juni 2022) (Kamer, Tweede, 2019) \n",
    "- Helmet requirement implementation (01 jan 2023) (Kamer, Tweede, 2019) \n"
   ]
  },
  {
   "cell_type": "markdown",
   "id": "9fd34d71",
   "metadata": {},
   "source": [
    "## Bibliography\n",
    "- Centraal Bureau voor de Statistiek. (2025). Inwoners per gemeente. Centraal Bureau Voor de Statistiek. https://www.cbs.nl/nl-nl/visualisaties/dashboard-bevolking/regionaal/inwoners \n",
    "- Kamer, Tweede. \\“Kamerstuk 29398, Nr. 652 | Overheid.nl > Officiële Bekendmakingen.” Officielebekendmakingen.nl, 18 Jan. 2019, zoek.officielebekendmakingen.nl/kst-29398-652.html, https://doi.org/kst-29398-652. Accessed 1 Oct. 2025. \n",
    "- Staatsblad 2022, 270 | Overheid.nl > Officiële bekendmakingen. (2022, June 30). https://zoek.officielebekendmakingen.nl/stb-2022-270.html#extrainformatie\n"
   ]
  },
  {
   "cell_type": "markdown",
   "id": "ec00fd63",
   "metadata": {},
   "source": []
  }
 ],
 "metadata": {
  "kernelspec": {
   "display_name": "TIL6022",
   "language": "python",
   "name": "python3"
  },
  "language_info": {
   "codemirror_mode": {
    "name": "ipython",
    "version": 3
   },
   "file_extension": ".py",
   "mimetype": "text/x-python",
   "name": "python",
   "nbconvert_exporter": "python",
   "pygments_lexer": "ipython3",
   "version": "3.13.7"
  }
 },
 "nbformat": 4,
 "nbformat_minor": 5
}
